{
 "cells": [
  {
   "cell_type": "code",
   "execution_count": null,
   "metadata": {},
   "outputs": [],
   "source": [
    "# code modifed from\n",
    "# workspace/nas100_vol2/projects/04_PFT/src/TOY2_modified/Training_with_v2/ver2_last_layer_GAP/PFT_toy2_TEST_FV2018_gradCAM(20210420).ipynb"
   ]
  },
  {
   "cell_type": "code",
   "execution_count": null,
   "metadata": {},
   "outputs": [],
   "source": [
    "# get dataframe"
   ]
  },
  {
   "cell_type": "code",
   "execution_count": 1,
   "metadata": {},
   "outputs": [],
   "source": [
    "weightpath_FEV1 = \"/workspace/nas100_vol2/projects/04_PFT/PFT_FV_entire_regression_with_preprocessing_v3/PFT_FV_entire_v3_i3d_incepV1_FEV1_MEAS_1ch_nf140_00/weights/train_weights_epoch_096.h5\"\n",
    "weightpath_FVC = '/workspace/nas100_vol2/projects/04_PFT/PFT_FV_entire_regression_with_preprocessing_v3/PFT_FV_entire_v3_i3d_incepV1_FVC_MEAS_1ch_nf140_01/weights/train_weights_epoch_096.h5'"
   ]
  },
  {
   "cell_type": "code",
   "execution_count": null,
   "metadata": {},
   "outputs": [],
   "source": []
  },
  {
   "cell_type": "code",
   "execution_count": 2,
   "metadata": {},
   "outputs": [],
   "source": [
    "slice_interval = 1\n",
    "#----\n",
    "\n",
    "img_width, img_height = 180,178\n",
    "epochs =150\n",
    "batch_size = 10\n",
    "\n",
    "_random_y = False\n",
    "_augmentation = False\n",
    "#-------\n",
    "NUM_CH = 1\n",
    "NUM_FRAMES = 140\n",
    "slice_interval = 1\n",
    "\n"
   ]
  },
  {
   "cell_type": "code",
   "execution_count": 3,
   "metadata": {},
   "outputs": [
    {
     "name": "stdout",
     "output_type": "stream",
     "text": [
      "\n",
      "211123\n",
      "2021-11-23 22:37:28.552276\n"
     ]
    }
   ],
   "source": [
    "from datetime import datetime\n",
    "print()\n",
    "now = datetime.now().strftime(\"%y%m%d\")\n",
    "print(now)\n",
    "print(datetime.now())"
   ]
  },
  {
   "cell_type": "code",
   "execution_count": 4,
   "metadata": {
    "colab": {},
    "colab_type": "code",
    "id": "x50ZaZPPTw1q"
   },
   "outputs": [],
   "source": [
    "import os"
   ]
  },
  {
   "cell_type": "code",
   "execution_count": 5,
   "metadata": {},
   "outputs": [
    {
     "name": "stderr",
     "output_type": "stream",
     "text": [
      "Using TensorFlow backend.\n"
     ]
    }
   ],
   "source": [
    "os.chdir(\"/workspace/nas100_vol2/projects/04_PFT/src/FIRST_VISITS_entire_set/Training\")\n",
    "os.getcwd()\n",
    "\n",
    "%run \"PFT_3D_CAM.py\""
   ]
  },
  {
   "cell_type": "code",
   "execution_count": null,
   "metadata": {},
   "outputs": [],
   "source": []
  },
  {
   "cell_type": "code",
   "execution_count": null,
   "metadata": {},
   "outputs": [],
   "source": []
  },
  {
   "cell_type": "code",
   "execution_count": 6,
   "metadata": {
    "colab": {},
    "colab_type": "code",
    "id": "Kj27lkI5Tw2w"
   },
   "outputs": [],
   "source": [
    "PATH_project_nas = \"/workspace/lung_pft\""
   ]
  },
  {
   "cell_type": "code",
   "execution_count": 7,
   "metadata": {},
   "outputs": [],
   "source": [
    "tr_num = \"PFT_FV_entire_v3_Test_external_validation_FV2018_check_211123\""
   ]
  },
  {
   "cell_type": "code",
   "execution_count": 8,
   "metadata": {},
   "outputs": [],
   "source": [
    "#change path to your PC environment./\n",
    "PATH_project = '/workspace/nas100_vol2/projects/04_PFT/'\n",
    "PATH_lung = \"/workspace/lung_pft\"\n",
    "PATH_data =os.path.join(PATH_lung, \"external_validation\")\n",
    "input_folder = '03_crop_padded_v3_skimage_210511'\n",
    "PATH_input = os.path.join(PATH_data, input_folder)\n",
    "PATH_info = os.path.join(PATH_project, \"data\", \"00_DATA_info\")\n",
    "\n",
    "TASK = 'PFT_FV_entire_I3D_regression_with_preprocessing_v3'\n",
    "\n",
    "PATH_task = os.path.join(PATH_project, TASK)\n",
    "if not os.path.isdir(PATH_task):\n",
    "    os.mkdir(PATH_task)\n",
    "\n",
    "PATH_trial = os.path.join(PATH_task, tr_num)\n",
    "if not os.path.isdir(PATH_trial):\n",
    "    os.mkdir(PATH_trial)\n",
    "    \n",
    "\n",
    "def print_paths():\n",
    "    print(\"PATH_project: \", PATH_project)\n",
    "    print(\"PATH_data: \", PATH_data)\n",
    "    print(\"PATH_input: \", PATH_input)\n",
    "    print(\"PATH_info: \", PATH_info)\n",
    "    print(\"-----------------------\")\n",
    "    print(\"PATH_task: \", PATH_task)\n",
    "    print(\"PATH_trial: \", PATH_trial)\n"
   ]
  },
  {
   "cell_type": "markdown",
   "metadata": {},
   "source": [
    "# set GPU number build model"
   ]
  },
  {
   "cell_type": "code",
   "execution_count": 9,
   "metadata": {},
   "outputs": [
    {
     "name": "stdout",
     "output_type": "stream",
     "text": [
      "Tue Nov 23 22:38:05 2021       \n",
      "+-----------------------------------------------------------------------------+\n",
      "| NVIDIA-SMI 470.74       Driver Version: 470.74       CUDA Version: 11.4     |\n",
      "|-------------------------------+----------------------+----------------------+\n",
      "| GPU  Name        Persistence-M| Bus-Id        Disp.A | Volatile Uncorr. ECC |\n",
      "| Fan  Temp  Perf  Pwr:Usage/Cap|         Memory-Usage | GPU-Util  Compute M. |\n",
      "|                               |                      |               MIG M. |\n",
      "|===============================+======================+======================|\n",
      "|   0  NVIDIA TITAN RTX    Off  | 00000000:1B:00.0 Off |                  N/A |\n",
      "| 45%   62C    P2    84W / 280W |  16880MiB / 24220MiB |      0%      Default |\n",
      "|                               |                      |                  N/A |\n",
      "+-------------------------------+----------------------+----------------------+\n",
      "|   1  NVIDIA TITAN RTX    Off  | 00000000:1C:00.0 Off |                  N/A |\n",
      "| 41%   47C    P2    70W / 280W |  16734MiB / 24220MiB |      0%      Default |\n",
      "|                               |                      |                  N/A |\n",
      "+-------------------------------+----------------------+----------------------+\n",
      "|   2  NVIDIA TITAN RTX    Off  | 00000000:1D:00.0 Off |                  N/A |\n",
      "| 41%   38C    P8    15W / 280W |   1306MiB / 24220MiB |      0%      Default |\n",
      "|                               |                      |                  N/A |\n",
      "+-------------------------------+----------------------+----------------------+\n",
      "|   3  NVIDIA TITAN RTX    Off  | 00000000:1E:00.0 Off |                  N/A |\n",
      "| 41%   38C    P8    14W / 280W |      1MiB / 24220MiB |      0%      Default |\n",
      "|                               |                      |                  N/A |\n",
      "+-------------------------------+----------------------+----------------------+\n",
      "|   4  NVIDIA TITAN RTX    Off  | 00000000:3D:00.0 Off |                  N/A |\n",
      "| 40%   52C    P2    68W / 280W |  16732MiB / 24220MiB |      0%      Default |\n",
      "|                               |                      |                  N/A |\n",
      "+-------------------------------+----------------------+----------------------+\n",
      "|   5  NVIDIA TITAN RTX    Off  | 00000000:3F:00.0 Off |                  N/A |\n",
      "| 41%   60C    P2    72W / 280W |  16732MiB / 24220MiB |      0%      Default |\n",
      "|                               |                      |                  N/A |\n",
      "+-------------------------------+----------------------+----------------------+\n",
      "|   6  NVIDIA TITAN RTX    Off  | 00000000:40:00.0 Off |                  N/A |\n",
      "| 41%   32C    P8    11W / 280W |      1MiB / 24220MiB |      0%      Default |\n",
      "|                               |                      |                  N/A |\n",
      "+-------------------------------+----------------------+----------------------+\n",
      "|   7  NVIDIA TITAN RTX    Off  | 00000000:41:00.0 Off |                  N/A |\n",
      "| 41%   36C    P8     3W / 280W |      1MiB / 24220MiB |      0%      Default |\n",
      "|                               |                      |                  N/A |\n",
      "+-------------------------------+----------------------+----------------------+\n",
      "                                                                               \n",
      "+-----------------------------------------------------------------------------+\n",
      "| Processes:                                                                  |\n",
      "|  GPU   GI   CI        PID   Type   Process name                  GPU Memory |\n",
      "|        ID   ID                                                   Usage      |\n",
      "|=============================================================================|\n",
      "+-----------------------------------------------------------------------------+\n"
     ]
    }
   ],
   "source": [
    "!nvidia-smi"
   ]
  },
  {
   "cell_type": "code",
   "execution_count": 10,
   "metadata": {},
   "outputs": [],
   "source": [
    "os.environ[\"CUDA_DEVICE_ORDER\"]=\"PCI_BUS_ID\"   \n",
    "os.environ[\"CUDA_VISIBLE_DEVICES\"]=\"6\""
   ]
  },
  {
   "cell_type": "code",
   "execution_count": 11,
   "metadata": {},
   "outputs": [
    {
     "name": "stdout",
     "output_type": "stream",
     "text": [
      "2.1.2\n",
      "WARNING:tensorflow:From /usr/local/lib/python3.6/dist-packages/keras/backend/tensorflow_backend.py:84: The name tf.reset_default_graph is deprecated. Please use tf.compat.v1.reset_default_graph instead.\n",
      "\n",
      "WARNING:tensorflow:From /usr/local/lib/python3.6/dist-packages/keras/backend/tensorflow_backend.py:87: The name tf.placeholder is deprecated. Please use tf.compat.v1.placeholder instead.\n",
      "\n",
      "WARNING:tensorflow:From /usr/local/lib/python3.6/dist-packages/keras/backend/tensorflow_backend.py:89: The name tf.get_default_graph is deprecated. Please use tf.compat.v1.get_default_graph instead.\n",
      "\n",
      "WARNING:tensorflow:From /usr/local/lib/python3.6/dist-packages/keras/backend/tensorflow_backend.py:3636: The name tf.random_uniform is deprecated. Please use tf.random.uniform instead.\n",
      "\n"
     ]
    }
   ],
   "source": [
    "# =============================================================================\n",
    "# import keras and build model   ==? 이 부분은 따로 두고 이 모델을 공통으로 해서 처리해야겠다.\n",
    "# =============================================================================\n",
    "import keras\n",
    "keras.backend.image_data_format()\n",
    "print(keras.__version__)\n",
    "\n",
    "#----\n",
    "# 첫번째 방법\n",
    "\n",
    "from keras.preprocessing import image\n",
    "from keras import backend as K\n",
    "\n",
    "#------\n",
    "from i3d_inception_last_global import Inception_Inflated3d as I3d\n",
    "from i3d_inception_last_global import conv3d_bn\n",
    "\n",
    "#------\n",
    "from keras.models import Model\n",
    "from keras import layers\n",
    "from keras.layers import Activation\n",
    "from keras.layers import Dense\n",
    "from keras.layers import Input\n",
    "from keras.layers import BatchNormalization\n",
    "from keras.layers import Conv3D\n",
    "from keras.layers import MaxPooling3D\n",
    "from keras.layers import AveragePooling3D\n",
    "from keras.layers import Dropout\n",
    "from keras.layers import Reshape\n",
    "from keras.layers import Lambda\n",
    "from keras.layers import GlobalAveragePooling3D\n",
    "\n",
    "\n",
    "K.clear_session()\n",
    "K.set_learning_phase(0) \n",
    "n_classes = 1\n",
    "\n",
    "\n",
    "###################################\n",
    "# base model - 마지막 부분을 global average pooling으로 고침\n",
    "###################################\n",
    "\n",
    "base_model = I3d(include_top=False,\n",
    "                weights=None,\n",
    "#                 input_tensor=None,\n",
    "                input_shape=(NUM_FRAMES,178,180,NUM_CH),\n",
    "#                 dropout_prob=0.0,\n",
    "                endpoint_logit=False, # softmax will be applied\n",
    "                classes=n_classes\n",
    "                ) \n",
    "\n",
    "\n",
    "# base_model.load_weights(weight_path)\n",
    "\n",
    "\n",
    "##################################\n",
    "# base model에서 마지막 average pooling을  제한다. - Global average pooling 이라고 되어 있는데  average pooling으로 되어 있어서.\n",
    "##################################\n",
    "\n",
    "x = base_model.output\n",
    "\n",
    "\n",
    "# #################################\n",
    "# # 아랫단은 v3에서 기반한 inflation 모델과 같게 한다.\n",
    "# #################################\n",
    "\n",
    "x = base_model.output\n",
    "# x = Dropout(0.0)(x)\n",
    "x = Dense(500, activation = \"relu\")(x)\n",
    "# x = Dense(500, activation = \"relu\")(x)\n",
    "prediction = Dense(1,activation = \"linear\" )(x)\n",
    "\n",
    "#----------------------------------\n",
    "\n",
    "model = Model(inputs=base_model.input, outputs=prediction)\n"
   ]
  },
  {
   "cell_type": "code",
   "execution_count": null,
   "metadata": {},
   "outputs": [],
   "source": []
  },
  {
   "cell_type": "markdown",
   "metadata": {
    "colab_type": "text",
    "id": "6AUbeK6KTw3I"
   },
   "source": [
    "# load_data_info\n"
   ]
  },
  {
   "cell_type": "code",
   "execution_count": 12,
   "metadata": {},
   "outputs": [
    {
     "data": {
      "text/plain": [
       "['PFT_LDCT_TEST_FV2018(210324).xlsx',\n",
       " 'PFT_LDCT_TEST_Toy599(210319).xlsx',\n",
       " 'PFT_LDCT_TEST_Toy599(210324).xlsx',\n",
       " 'PFT_SDCT_sample300(210324).xlsx',\n",
       " 'PFT_LDCT_TEST_FV2018_mask_info_tmp(0416).xlsx',\n",
       " 'PFT_LDCT_TEST_FV2018(210324)_w_maskinfo(210416).xlsx',\n",
       " 'PFT_SDCT_check_twoSeries(21416).xlsx',\n",
       " 'PFT_SDCT_normal_lung_mask_info(210419).xlsx',\n",
       " 'PFT_SDCT_normal_lung_mask_info_only(210419).xlsx',\n",
       " 'PFT_LDCT_TEST_FV2018_mask_info_only(0496).xlsx',\n",
       " 'PFT_LDCT_TEST_FV2018_w_mask_info(210419).xlsx',\n",
       " 'PFT_toy2_TEST_SDCT_pre_op_CEpair_20210420.xlsx',\n",
       " 'PFT_toy2_TEST_SDCT_pre_op_CEpair_w_info_20210420.xlsx',\n",
       " 'PFT_toy2_TEST_SDCT_pre_op_CEpair_table_on_pair_20210420.xlsx',\n",
       " 'PFT_LDCT_TEST_FV2018_w_mask_info(210419)_sm210422.xlsx',\n",
       " 'PFT_LDCT_TEST_FV2018_w_mask_info(210426).xlsx',\n",
       " 'PFT_LDCT_TEST_FV2018_outlier(210426).xlsx',\n",
       " 'PFT_LDCT_weak_external_with_testresult_preprocessingv3(21Jul_first_result).xlsx']"
      ]
     },
     "execution_count": 12,
     "metadata": {},
     "output_type": "execute_result"
    }
   ],
   "source": [
    "os.listdir(\"/workspace/nas100_vol2/projects/04_PFT/data/00_DATA_info/Test_Result/\")"
   ]
  },
  {
   "cell_type": "code",
   "execution_count": null,
   "metadata": {},
   "outputs": [],
   "source": []
  },
  {
   "cell_type": "code",
   "execution_count": 14,
   "metadata": {},
   "outputs": [],
   "source": [
    "# _src_path = os.path.join(\"/workspace/nas100_vol2/projects/04_PFT/PFT_FV_entire_I3D_regression_with_preprocessing_v3/PFT_FV_entire_v3_Test_external_validation_FV2018\", \"df_target_test_with_result.xlsx\")\n",
    "\n",
    "# _dst_path = os.path.join(\"/workspace/nas100_vol2/projects/04_PFT/data/00_DATA_info/Test_Result/\",'PFT_LDCT_weak_external_with_testresult_preprocessingv3(21Jul_first_result).xlsx')"
   ]
  },
  {
   "cell_type": "code",
   "execution_count": 15,
   "metadata": {},
   "outputs": [],
   "source": [
    "# import shutil\n",
    "# shutil.copyfile(_src_path, _dst_path)"
   ]
  },
  {
   "cell_type": "code",
   "execution_count": 13,
   "metadata": {},
   "outputs": [
    {
     "name": "stdout",
     "output_type": "stream",
     "text": [
      "/workspace/nas100_vol2/projects/04_PFT/data/00_DATA_info/Test_Result/PFT_LDCT_weak_external_with_testresult_preprocessingv3(21Jul_first_result).xlsx\n"
     ]
    }
   ],
   "source": [
    "filepath = os.path.join(\"/workspace/nas100_vol2/projects/04_PFT/data/00_DATA_info/Test_Result/\",'PFT_LDCT_weak_external_with_testresult_preprocessingv3(21Jul_first_result).xlsx')\n",
    "print(filepath)"
   ]
  },
  {
   "cell_type": "code",
   "execution_count": 14,
   "metadata": {},
   "outputs": [],
   "source": [
    "df_target = pd.read_excel(filepath, \n",
    "                         index_col = 0,\n",
    "                         engine = \"openpyxl\")\n",
    "list_new_key = []\n",
    "for _key in df_target.keys():\n",
    "    _new_key = _key.strip()\n",
    "    list_new_key.append(_new_key)\n",
    "\n",
    "df_target.columns = list_new_key"
   ]
  },
  {
   "cell_type": "code",
   "execution_count": 15,
   "metadata": {},
   "outputs": [
    {
     "name": "stdout",
     "output_type": "stream",
     "text": [
      "(2720, 90)\n",
      "Index(['examID', 'ID_path', 'dir_name', 'target_path', 'check_dir_exist',\n",
      "       '연구번호', 'HE0108(R5253A)검사접수번호', 'HE0109(R5253)검사접수번호', 'EXCEL',\n",
      "       'PYTHON', '성별', '건진일자', '나이', '내원번호', '키', '체중', 'BMI', '허리둘레', 'SBP',\n",
      "       'DBP', 'Q0002 귀하께서는 암을 진단 받은 적이 있습니까?',\n",
      "       'Q0003 진단 받은 암을 선택해 주시겠습니까? (복수 응답 가능)',\n",
      "       'Q0214 폐질환, 신장/요로/전립선질환, 간/담도질환, 식도/위/대장질환 및 갑상선 질환이 있습니까?',\n",
      "       'Q0229 과거력(폐,비뇨기,소화기,갑상선) 을 선택해 주시겠습니까? (복수 응답 가능)',\n",
      "       'Q0012 복용/주사 중인 약을 선택해 주시겠습니까? (복수 응답 가능)',\n",
      "       'Q0016 시술 혹은 수술을 선택해주시겠습니까?(복수 응답 가능)', 'Q0047 귀하는 담배를 피운적이 있습니까?',\n",
      "       'Q0048 처음 흡연을 시작한 연령은 몇 세입니까?', 'Q0049 흡연을 중단한 연령은 몇 세입니까?',\n",
      "       'Q0050 하루 평균 흡연량은 얼마입니까? (현재 끊으신분도 과거 하루 평균 흡연량 표시바랍니다)',\n",
      "       'Q0089 숨찬 증상이 있습니까?', 'Q0211 흉부 통증이 있습니까?',\n",
      "       'Q0090 상기도 및 호흡기계 증상이 있습니까?', 'R5253A 접수일자', 'R5253A 결과본문', 'R5253A 결론',\n",
      "       'R5253 접수일자', 'R5253 결과본문', 'R5253 결론', 'S2001 접수일자', 'S2001 결론',\n",
      "       'S2002 접수일자', 'S2002 결론', 'FVC_PRED', 'FVC_MEAS', 'FVC_%PRED',\n",
      "       'FEV1_PRED', 'FEV1_MEAS', 'FEV1_%PRED', 'FEV1/FVC_PRED',\n",
      "       'FEV1/FVC_MEAS', 'examdate_datetime', 'examdate_year', 'Study_date',\n",
      "       'series_date', 'series_time', 'modality', 'manufacturer',\n",
      "       'S_description', 'pixel_spacing', 'spacing_one_dimension',\n",
      "       'slice_thickness', 'KVP', 'bits_allocated', 'bits_stored', 'high_bits',\n",
      "       'pixel_min', 'pixel_max', 'pixel_range', 'pixel_min_2', 'pixel_max_2',\n",
      "       'pixel_range_2', 'size_or_z', 'spacing_or_x', 'spacing_or_y',\n",
      "       'spacing_or_z', 'size_resampled_x', 'size_resampled_y',\n",
      "       'size_resampled_z', 'body_size_y_3d', 'index_sample_axial',\n",
      "       'modelpredicted(FEV1_MEAS)', 'residuals_FEV1_MEAS_prediction',\n",
      "       'zscore_residuals_FEV1_MEAS_prediction', 'modelpredicted(FVC_MEAS)',\n",
      "       'residuals_FVC_MEAS_prediction', 'zscore_residuals_FVC_MEAS_prediction',\n",
      "       'modelpredicted(FVC_MEAS)_%PRED', 'modelpredicted(FEV1_MEAS)_%PRED',\n",
      "       'modelpredicted(FEV1_over_FVC)'],\n",
      "      dtype='object')\n"
     ]
    }
   ],
   "source": [
    "print(df_target.shape)\n",
    "print(df_target.keys())"
   ]
  },
  {
   "cell_type": "code",
   "execution_count": 16,
   "metadata": {},
   "outputs": [
    {
     "data": {
      "text/plain": [
       "<matplotlib.collections.PathCollection at 0x7f2107c492e8>"
      ]
     },
     "execution_count": 16,
     "metadata": {},
     "output_type": "execute_result"
    },
    {
     "data": {
      "image/png": "[encoded data removed]",
      "text/plain": [
       "<Figure size 432x432 with 1 Axes>"
      ]
     },
     "metadata": {
      "needs_background": "light"
     },
     "output_type": "display_data"
    }
   ],
   "source": [
    "plt.figure(figsize = (6,6))\n",
    "plt.scatter(df_target[\"FEV1_MEAS\"], df_target['modelpredicted(FEV1_MEAS)'])"
   ]
  },
  {
   "cell_type": "code",
   "execution_count": null,
   "metadata": {},
   "outputs": [],
   "source": []
  },
  {
   "cell_type": "code",
   "execution_count": 17,
   "metadata": {},
   "outputs": [
    {
     "name": "stdout",
     "output_type": "stream",
     "text": [
      "[1, 5, 8, 12, 13, 19, 20, 21, 22, 32, 33, 39, 40, 41, 42, 53, 54, 60, 61, 62, 63, 73, 74, 80, 81, 82, 83, 93, 94, 100, 101, 102, 103, 113, 114, 120, 121, 122, 123, 133, 134, 140, 141, 142, 143, 154, 155, 161, 162, 163, 164, 174, 175, 181, 182, 183, 184]\n",
      "[31, 51, 72, 92, 112, 132, 152, 173, 193]\n"
     ]
    }
   ],
   "source": [
    "list_conv_idx = []\n",
    "\n",
    "for i, layer in enumerate(model.layers):\n",
    "\n",
    "    if 'conv' not in layer.name:\n",
    "        continue\n",
    "        \n",
    "    else:\n",
    "\n",
    "        list_conv_idx.append(i)\n",
    "print(list_conv_idx)\n",
    "\n",
    "list_mixed_idx = []\n",
    "\n",
    "for i, layer in enumerate(model.layers):\n",
    "\n",
    "    if 'Mixed' not in layer.name:\n",
    "        continue\n",
    "        \n",
    "    else:\n",
    "\n",
    "        list_mixed_idx.append(i)\n",
    "print(list_mixed_idx)"
   ]
  },
  {
   "cell_type": "code",
   "execution_count": 18,
   "metadata": {},
   "outputs": [
    {
     "data": {
      "text/plain": [
       "['01_copied',\n",
       " 'PFT_LDCT_weak_external_01_copied_CTinfo(0312).xlsx',\n",
       " '02_resized',\n",
       " 'PFT_LDCT_weak_external_02_resized_sizeinfo(0312).xlsx',\n",
       " 'PFT_LDCT_weak_external_02_resized_check_needed(0315).xlsx',\n",
       " '03_crop_padded',\n",
       " 'PFT_LDCT_weak_external_03_crop_padded(0315).xlsx',\n",
       " 'PFT_LDCT_weak_external_03_crop_padded(0315)_with_histogram.xlsx',\n",
       " '0X_lung_seg_sample',\n",
       " '.ipynb_checkpoints',\n",
       " '04_lung_seg_mask',\n",
       " '_thumbnails',\n",
       " '02_resized_v3_skimage_210511',\n",
       " '02_resized_v3_skimage_210511_thumb',\n",
       " '03_crop_padded_v3_skimage_210511',\n",
       " '03_crop_padded_v3_skimage_210511_processing',\n",
       " 'old_preprocessing_result_and_CAM',\n",
       " '05_CAM_with_v3',\n",
       " '05_CAM_with_v3_thumbnail_210811',\n",
       " 'preprocessed_images',\n",
       " '06_ActivationMap_withv3_0814',\n",
       " '06_ActivationMap_thumb_0814',\n",
       " '07_ActivationMap_thumb_coronal_0814',\n",
       " '08_ActivationMap_thumb_sagittal_0814',\n",
       " '03_crop_padded_v3_skimage_210511_dicom']"
      ]
     },
     "execution_count": 18,
     "metadata": {},
     "output_type": "execute_result"
    }
   ],
   "source": [
    "import os\n",
    "os.listdir(\"/workspace/lung_pft/external_validation/\")"
   ]
  },
  {
   "cell_type": "code",
   "execution_count": 19,
   "metadata": {},
   "outputs": [
    {
     "name": "stdout",
     "output_type": "stream",
     "text": [
      "/workspace/nas100_vol2/projects/04_PFT/PFT_FV_entire_regression_with_preprocessing_v3/PFT_FV_entire_v3_i3d_incepV1_FEV1_MEAS_1ch_nf140_00/weights/train_weights_epoch_096.h5\n",
      "WARNING:tensorflow:From /usr/local/lib/python3.6/dist-packages/keras/backend/tensorflow_backend.py:159: The name tf.get_default_session is deprecated. Please use tf.compat.v1.get_default_session instead.\n",
      "\n",
      "WARNING:tensorflow:From /usr/local/lib/python3.6/dist-packages/keras/backend/tensorflow_backend.py:164: The name tf.ConfigProto is deprecated. Please use tf.compat.v1.ConfigProto instead.\n",
      "\n",
      "WARNING:tensorflow:From /usr/local/lib/python3.6/dist-packages/keras/backend/tensorflow_backend.py:169: The name tf.Session is deprecated. Please use tf.compat.v1.Session instead.\n",
      "\n",
      "WARNING:tensorflow:From /usr/local/lib/python3.6/dist-packages/keras/backend/tensorflow_backend.py:173: The name tf.global_variables is deprecated. Please use tf.compat.v1.global_variables instead.\n",
      "\n",
      "WARNING:tensorflow:From /usr/local/lib/python3.6/dist-packages/keras/backend/tensorflow_backend.py:182: The name tf.is_variable_initialized is deprecated. Please use tf.compat.v1.is_variable_initialized instead.\n",
      "\n",
      "WARNING:tensorflow:From /usr/local/lib/python3.6/dist-packages/keras/backend/tensorflow_backend.py:189: The name tf.variables_initializer is deprecated. Please use tf.compat.v1.variables_initializer instead.\n",
      "\n"
     ]
    },
    {
     "name": "stderr",
     "output_type": "stream",
     "text": [
      "0it [00:00, ?it/s]"
     ]
    },
    {
     "name": "stdout",
     "output_type": "stream",
     "text": [
      "(2720, 90)\n"
     ]
    },
    {
     "name": "stderr",
     "output_type": "stream",
     "text": [
      "3it [00:21,  7.32s/it]\n"
     ]
    },
    {
     "ename": "KeyboardInterrupt",
     "evalue": "",
     "output_type": "error",
     "traceback": [
      "\u001b[0;31m---------------------------------------------------------------------------\u001b[0m",
      "\u001b[0;31mKeyboardInterrupt\u001b[0m                         Traceback (most recent call last)",
      "\u001b[0;32m<ipython-input-19-890e4517e0df>\u001b[0m in \u001b[0;36m<module>\u001b[0;34m\u001b[0m\n\u001b[1;32m    150\u001b[0m         \u001b[0mf\u001b[0m\u001b[0;34m,\u001b[0m \u001b[0ma\u001b[0m\u001b[0;34m,\u001b[0m \u001b[0midx1\u001b[0m\u001b[0;34m,\u001b[0m \u001b[0midx2\u001b[0m \u001b[0;34m=\u001b[0m \u001b[0mplot_max_coronal\u001b[0m\u001b[0;34m(\u001b[0m\u001b[0mgrad_CAM\u001b[0m\u001b[0;34m,\u001b[0m \u001b[0mimg\u001b[0m \u001b[0;34m)\u001b[0m\u001b[0;34m\u001b[0m\u001b[0;34m\u001b[0m\u001b[0m\n\u001b[1;32m    151\u001b[0m \u001b[0;34m\u001b[0m\u001b[0m\n\u001b[0;32m--> 152\u001b[0;31m         \u001b[0mplot_max_coronal_step2\u001b[0m\u001b[0;34m(\u001b[0m\u001b[0mf\u001b[0m\u001b[0;34m,\u001b[0m \u001b[0ma\u001b[0m\u001b[0;34m,\u001b[0m \u001b[0mdf_tmp\u001b[0m\u001b[0;34m,\u001b[0m \u001b[0mtarget_var\u001b[0m\u001b[0;34m,\u001b[0m \u001b[0mPATH_CAM_thumb_cornal\u001b[0m\u001b[0;34m,\u001b[0m \u001b[0mgrad_CAM_savename\u001b[0m\u001b[0;34m,\u001b[0m \u001b[0m_row\u001b[0m\u001b[0;34m)\u001b[0m\u001b[0;34m\u001b[0m\u001b[0;34m\u001b[0m\u001b[0m\n\u001b[0m\u001b[1;32m    153\u001b[0m         \u001b[0mplt\u001b[0m\u001b[0;34m.\u001b[0m\u001b[0mclose\u001b[0m\u001b[0;34m(\u001b[0m\u001b[0mf\u001b[0m\u001b[0;34m)\u001b[0m\u001b[0;34m\u001b[0m\u001b[0;34m\u001b[0m\u001b[0m\n\u001b[1;32m    154\u001b[0m \u001b[0;34m\u001b[0m\u001b[0m\n",
      "\u001b[0;32m/workspace/nas100_vol2/projects/04_PFT/src/FIRST_VISITS_entire_set/Training/PFT_3D_CAM.py\u001b[0m in \u001b[0;36mplot_max_coronal_step2\u001b[0;34m(fig, ax, _target_df, _target_var, _path_dir, _filename, iterred_row)\u001b[0m\n\u001b[1;32m    388\u001b[0m             \u001b[0;31m#---------\u001b[0m\u001b[0;34m\u001b[0m\u001b[0;34m\u001b[0m\u001b[0;34m\u001b[0m\u001b[0m\n\u001b[1;32m    389\u001b[0m     \u001b[0m_filepath\u001b[0m \u001b[0;34m=\u001b[0m \u001b[0mos\u001b[0m\u001b[0;34m.\u001b[0m\u001b[0mpath\u001b[0m\u001b[0;34m.\u001b[0m\u001b[0mjoin\u001b[0m\u001b[0;34m(\u001b[0m\u001b[0m_path_dir\u001b[0m\u001b[0;34m,\u001b[0m \u001b[0;34mf\"{_filename}.png\"\u001b[0m\u001b[0;34m)\u001b[0m\u001b[0;34m\u001b[0m\u001b[0;34m\u001b[0m\u001b[0m\n\u001b[0;32m--> 390\u001b[0;31m     \u001b[0mplt\u001b[0m\u001b[0;34m.\u001b[0m\u001b[0msavefig\u001b[0m\u001b[0;34m(\u001b[0m\u001b[0m_filepath\u001b[0m\u001b[0;34m,\u001b[0m \u001b[0mbbox_inches\u001b[0m \u001b[0;34m=\u001b[0m \u001b[0;34m\"tight\"\u001b[0m\u001b[0;34m,\u001b[0m \u001b[0mdpi\u001b[0m \u001b[0;34m=\u001b[0m \u001b[0;36m300\u001b[0m\u001b[0;34m)\u001b[0m\u001b[0;34m\u001b[0m\u001b[0;34m\u001b[0m\u001b[0m\n\u001b[0m\u001b[1;32m    391\u001b[0m     \u001b[0mplt\u001b[0m\u001b[0;34m.\u001b[0m\u001b[0mclose\u001b[0m\u001b[0;34m(\u001b[0m\u001b[0mfig\u001b[0m\u001b[0;34m)\u001b[0m\u001b[0;34m\u001b[0m\u001b[0;34m\u001b[0m\u001b[0m\n\u001b[1;32m    392\u001b[0m \u001b[0;34m\u001b[0m\u001b[0m\n",
      "\u001b[0;32m/usr/local/lib/python3.6/dist-packages/matplotlib/pyplot.py\u001b[0m in \u001b[0;36msavefig\u001b[0;34m(*args, **kwargs)\u001b[0m\n\u001b[1;32m    841\u001b[0m \u001b[0;32mdef\u001b[0m \u001b[0msavefig\u001b[0m\u001b[0;34m(\u001b[0m\u001b[0;34m*\u001b[0m\u001b[0margs\u001b[0m\u001b[0;34m,\u001b[0m \u001b[0;34m**\u001b[0m\u001b[0mkwargs\u001b[0m\u001b[0;34m)\u001b[0m\u001b[0;34m:\u001b[0m\u001b[0;34m\u001b[0m\u001b[0;34m\u001b[0m\u001b[0m\n\u001b[1;32m    842\u001b[0m     \u001b[0mfig\u001b[0m \u001b[0;34m=\u001b[0m \u001b[0mgcf\u001b[0m\u001b[0;34m(\u001b[0m\u001b[0;34m)\u001b[0m\u001b[0;34m\u001b[0m\u001b[0;34m\u001b[0m\u001b[0m\n\u001b[0;32m--> 843\u001b[0;31m     \u001b[0mres\u001b[0m \u001b[0;34m=\u001b[0m \u001b[0mfig\u001b[0m\u001b[0;34m.\u001b[0m\u001b[0msavefig\u001b[0m\u001b[0;34m(\u001b[0m\u001b[0;34m*\u001b[0m\u001b[0margs\u001b[0m\u001b[0;34m,\u001b[0m \u001b[0;34m**\u001b[0m\u001b[0mkwargs\u001b[0m\u001b[0;34m)\u001b[0m\u001b[0;34m\u001b[0m\u001b[0;34m\u001b[0m\u001b[0m\n\u001b[0m\u001b[1;32m    844\u001b[0m     \u001b[0mfig\u001b[0m\u001b[0;34m.\u001b[0m\u001b[0mcanvas\u001b[0m\u001b[0;34m.\u001b[0m\u001b[0mdraw_idle\u001b[0m\u001b[0;34m(\u001b[0m\u001b[0;34m)\u001b[0m   \u001b[0;31m# need this if 'transparent=True' to reset colors\u001b[0m\u001b[0;34m\u001b[0m\u001b[0;34m\u001b[0m\u001b[0m\n\u001b[1;32m    845\u001b[0m     \u001b[0;32mreturn\u001b[0m \u001b[0mres\u001b[0m\u001b[0;34m\u001b[0m\u001b[0;34m\u001b[0m\u001b[0m\n",
      "\u001b[0;32m/usr/local/lib/python3.6/dist-packages/matplotlib/figure.py\u001b[0m in \u001b[0;36msavefig\u001b[0;34m(self, fname, transparent, **kwargs)\u001b[0m\n\u001b[1;32m   2309\u001b[0m                 \u001b[0mpatch\u001b[0m\u001b[0;34m.\u001b[0m\u001b[0mset_edgecolor\u001b[0m\u001b[0;34m(\u001b[0m\u001b[0;34m'none'\u001b[0m\u001b[0;34m)\u001b[0m\u001b[0;34m\u001b[0m\u001b[0;34m\u001b[0m\u001b[0m\n\u001b[1;32m   2310\u001b[0m \u001b[0;34m\u001b[0m\u001b[0m\n\u001b[0;32m-> 2311\u001b[0;31m         \u001b[0mself\u001b[0m\u001b[0;34m.\u001b[0m\u001b[0mcanvas\u001b[0m\u001b[0;34m.\u001b[0m\u001b[0mprint_figure\u001b[0m\u001b[0;34m(\u001b[0m\u001b[0mfname\u001b[0m\u001b[0;34m,\u001b[0m \u001b[0;34m**\u001b[0m\u001b[0mkwargs\u001b[0m\u001b[0;34m)\u001b[0m\u001b[0;34m\u001b[0m\u001b[0;34m\u001b[0m\u001b[0m\n\u001b[0m\u001b[1;32m   2312\u001b[0m \u001b[0;34m\u001b[0m\u001b[0m\n\u001b[1;32m   2313\u001b[0m         \u001b[0;32mif\u001b[0m \u001b[0mtransparent\u001b[0m\u001b[0;34m:\u001b[0m\u001b[0;34m\u001b[0m\u001b[0;34m\u001b[0m\u001b[0m\n",
      "\u001b[0;32m/usr/local/lib/python3.6/dist-packages/matplotlib/backend_bases.py\u001b[0m in \u001b[0;36mprint_figure\u001b[0;34m(self, filename, dpi, facecolor, edgecolor, orientation, format, bbox_inches, pad_inches, bbox_extra_artists, backend, **kwargs)\u001b[0m\n\u001b[1;32m   2194\u001b[0m \u001b[0;34m\u001b[0m\u001b[0m\n\u001b[1;32m   2195\u001b[0m                     bbox_inches = self.figure.get_tightbbox(\n\u001b[0;32m-> 2196\u001b[0;31m                         renderer, bbox_extra_artists=bbox_extra_artists)\n\u001b[0m\u001b[1;32m   2197\u001b[0m                     \u001b[0;32mif\u001b[0m \u001b[0mpad_inches\u001b[0m \u001b[0;32mis\u001b[0m \u001b[0;32mNone\u001b[0m\u001b[0;34m:\u001b[0m\u001b[0;34m\u001b[0m\u001b[0;34m\u001b[0m\u001b[0m\n\u001b[1;32m   2198\u001b[0m                         \u001b[0mpad_inches\u001b[0m \u001b[0;34m=\u001b[0m \u001b[0mrcParams\u001b[0m\u001b[0;34m[\u001b[0m\u001b[0;34m'savefig.pad_inches'\u001b[0m\u001b[0;34m]\u001b[0m\u001b[0;34m\u001b[0m\u001b[0;34m\u001b[0m\u001b[0m\n",
      "\u001b[0;32m/usr/local/lib/python3.6/dist-packages/matplotlib/figure.py\u001b[0m in \u001b[0;36mget_tightbbox\u001b[0;34m(self, renderer, bbox_extra_artists)\u001b[0m\n\u001b[1;32m   2504\u001b[0m \u001b[0;34m\u001b[0m\u001b[0m\n\u001b[1;32m   2505\u001b[0m         \u001b[0;32mfor\u001b[0m \u001b[0ma\u001b[0m \u001b[0;32min\u001b[0m \u001b[0martists\u001b[0m\u001b[0;34m:\u001b[0m\u001b[0;34m\u001b[0m\u001b[0;34m\u001b[0m\u001b[0m\n\u001b[0;32m-> 2506\u001b[0;31m             \u001b[0mbbox\u001b[0m \u001b[0;34m=\u001b[0m \u001b[0ma\u001b[0m\u001b[0;34m.\u001b[0m\u001b[0mget_tightbbox\u001b[0m\u001b[0;34m(\u001b[0m\u001b[0mrenderer\u001b[0m\u001b[0;34m)\u001b[0m\u001b[0;34m\u001b[0m\u001b[0;34m\u001b[0m\u001b[0m\n\u001b[0m\u001b[1;32m   2507\u001b[0m             \u001b[0;32mif\u001b[0m \u001b[0mbbox\u001b[0m \u001b[0;32mis\u001b[0m \u001b[0;32mnot\u001b[0m \u001b[0;32mNone\u001b[0m \u001b[0;32mand\u001b[0m \u001b[0;34m(\u001b[0m\u001b[0mbbox\u001b[0m\u001b[0;34m.\u001b[0m\u001b[0mwidth\u001b[0m \u001b[0;34m!=\u001b[0m \u001b[0;36m0\u001b[0m \u001b[0;32mor\u001b[0m \u001b[0mbbox\u001b[0m\u001b[0;34m.\u001b[0m\u001b[0mheight\u001b[0m \u001b[0;34m!=\u001b[0m \u001b[0;36m0\u001b[0m\u001b[0;34m)\u001b[0m\u001b[0;34m:\u001b[0m\u001b[0;34m\u001b[0m\u001b[0;34m\u001b[0m\u001b[0m\n\u001b[1;32m   2508\u001b[0m                 \u001b[0mbb\u001b[0m\u001b[0;34m.\u001b[0m\u001b[0mappend\u001b[0m\u001b[0;34m(\u001b[0m\u001b[0mbbox\u001b[0m\u001b[0;34m)\u001b[0m\u001b[0;34m\u001b[0m\u001b[0;34m\u001b[0m\u001b[0m\n",
      "\u001b[0;32m/usr/local/lib/python3.6/dist-packages/matplotlib/artist.py\u001b[0m in \u001b[0;36mget_tightbbox\u001b[0;34m(self, renderer)\u001b[0m\n\u001b[1;32m    276\u001b[0m             \u001b[0mThe\u001b[0m \u001b[0menclosing\u001b[0m \u001b[0mbounding\u001b[0m \u001b[0mbox\u001b[0m \u001b[0;34m(\u001b[0m\u001b[0;32min\u001b[0m \u001b[0mfigure\u001b[0m \u001b[0mpixel\u001b[0m \u001b[0mcoordinates\u001b[0m\u001b[0;34m)\u001b[0m\u001b[0;34m.\u001b[0m\u001b[0;34m\u001b[0m\u001b[0;34m\u001b[0m\u001b[0m\n\u001b[1;32m    277\u001b[0m         \"\"\"\n\u001b[0;32m--> 278\u001b[0;31m         \u001b[0mbbox\u001b[0m \u001b[0;34m=\u001b[0m \u001b[0mself\u001b[0m\u001b[0;34m.\u001b[0m\u001b[0mget_window_extent\u001b[0m\u001b[0;34m(\u001b[0m\u001b[0mrenderer\u001b[0m\u001b[0;34m)\u001b[0m\u001b[0;34m\u001b[0m\u001b[0;34m\u001b[0m\u001b[0m\n\u001b[0m\u001b[1;32m    279\u001b[0m         \u001b[0;32mif\u001b[0m \u001b[0mself\u001b[0m\u001b[0;34m.\u001b[0m\u001b[0mget_clip_on\u001b[0m\u001b[0;34m(\u001b[0m\u001b[0;34m)\u001b[0m\u001b[0;34m:\u001b[0m\u001b[0;34m\u001b[0m\u001b[0;34m\u001b[0m\u001b[0m\n\u001b[1;32m    280\u001b[0m             \u001b[0mclip_box\u001b[0m \u001b[0;34m=\u001b[0m \u001b[0mself\u001b[0m\u001b[0;34m.\u001b[0m\u001b[0mget_clip_box\u001b[0m\u001b[0;34m(\u001b[0m\u001b[0;34m)\u001b[0m\u001b[0;34m\u001b[0m\u001b[0;34m\u001b[0m\u001b[0m\n",
      "\u001b[0;32m/usr/local/lib/python3.6/dist-packages/matplotlib/collections.py\u001b[0m in \u001b[0;36mget_window_extent\u001b[0;34m(self, renderer)\u001b[0m\n\u001b[1;32m    299\u001b[0m         \u001b[0;31m# TODO: check to ensure that this does not fail for\u001b[0m\u001b[0;34m\u001b[0m\u001b[0;34m\u001b[0m\u001b[0;34m\u001b[0m\u001b[0m\n\u001b[1;32m    300\u001b[0m         \u001b[0;31m# cases other than scatter plot legend\u001b[0m\u001b[0;34m\u001b[0m\u001b[0;34m\u001b[0m\u001b[0;34m\u001b[0m\u001b[0m\n\u001b[0;32m--> 301\u001b[0;31m         \u001b[0;32mreturn\u001b[0m \u001b[0mself\u001b[0m\u001b[0;34m.\u001b[0m\u001b[0mget_datalim\u001b[0m\u001b[0;34m(\u001b[0m\u001b[0mtransforms\u001b[0m\u001b[0;34m.\u001b[0m\u001b[0mIdentityTransform\u001b[0m\u001b[0;34m(\u001b[0m\u001b[0;34m)\u001b[0m\u001b[0;34m)\u001b[0m\u001b[0;34m\u001b[0m\u001b[0;34m\u001b[0m\u001b[0m\n\u001b[0m\u001b[1;32m    302\u001b[0m \u001b[0;34m\u001b[0m\u001b[0m\n\u001b[1;32m    303\u001b[0m     \u001b[0;32mdef\u001b[0m \u001b[0m_prepare_points\u001b[0m\u001b[0;34m(\u001b[0m\u001b[0mself\u001b[0m\u001b[0;34m)\u001b[0m\u001b[0;34m:\u001b[0m\u001b[0;34m\u001b[0m\u001b[0;34m\u001b[0m\u001b[0m\n",
      "\u001b[0;32m/usr/local/lib/python3.6/dist-packages/matplotlib/collections.py\u001b[0m in \u001b[0;36mget_datalim\u001b[0;34m(self, transData)\u001b[0m\n\u001b[1;32m    253\u001b[0m             \u001b[0;31m# if there are offsets but in some coords other than data,\u001b[0m\u001b[0;34m\u001b[0m\u001b[0;34m\u001b[0m\u001b[0;34m\u001b[0m\u001b[0m\n\u001b[1;32m    254\u001b[0m             \u001b[0;31m# then don't use them for autoscaling.\u001b[0m\u001b[0;34m\u001b[0m\u001b[0;34m\u001b[0m\u001b[0;34m\u001b[0m\u001b[0m\n\u001b[0;32m--> 255\u001b[0;31m             \u001b[0;32mreturn\u001b[0m \u001b[0mtransforms\u001b[0m\u001b[0;34m.\u001b[0m\u001b[0mBbox\u001b[0m\u001b[0;34m.\u001b[0m\u001b[0mnull\u001b[0m\u001b[0;34m(\u001b[0m\u001b[0;34m)\u001b[0m\u001b[0;34m\u001b[0m\u001b[0;34m\u001b[0m\u001b[0m\n\u001b[0m\u001b[1;32m    256\u001b[0m         \u001b[0moffsets\u001b[0m \u001b[0;34m=\u001b[0m \u001b[0mself\u001b[0m\u001b[0;34m.\u001b[0m\u001b[0m_offsets\u001b[0m\u001b[0;34m\u001b[0m\u001b[0;34m\u001b[0m\u001b[0m\n\u001b[1;32m    257\u001b[0m \u001b[0;34m\u001b[0m\u001b[0m\n",
      "\u001b[0;32m/usr/local/lib/python3.6/dist-packages/matplotlib/transforms.py\u001b[0m in \u001b[0;36mnull\u001b[0;34m()\u001b[0m\n\u001b[1;32m    802\u001b[0m     \u001b[0;32mdef\u001b[0m \u001b[0mnull\u001b[0m\u001b[0;34m(\u001b[0m\u001b[0;34m)\u001b[0m\u001b[0;34m:\u001b[0m\u001b[0;34m\u001b[0m\u001b[0;34m\u001b[0m\u001b[0m\n\u001b[1;32m    803\u001b[0m         \u001b[0;34m\"\"\"Create a new null `Bbox` from (inf, inf) to (-inf, -inf).\"\"\"\u001b[0m\u001b[0;34m\u001b[0m\u001b[0;34m\u001b[0m\u001b[0m\n\u001b[0;32m--> 804\u001b[0;31m         \u001b[0;32mreturn\u001b[0m \u001b[0mBbox\u001b[0m\u001b[0;34m(\u001b[0m\u001b[0;34m[\u001b[0m\u001b[0;34m[\u001b[0m\u001b[0mnp\u001b[0m\u001b[0;34m.\u001b[0m\u001b[0minf\u001b[0m\u001b[0;34m,\u001b[0m \u001b[0mnp\u001b[0m\u001b[0;34m.\u001b[0m\u001b[0minf\u001b[0m\u001b[0;34m]\u001b[0m\u001b[0;34m,\u001b[0m \u001b[0;34m[\u001b[0m\u001b[0;34m-\u001b[0m\u001b[0mnp\u001b[0m\u001b[0;34m.\u001b[0m\u001b[0minf\u001b[0m\u001b[0;34m,\u001b[0m \u001b[0;34m-\u001b[0m\u001b[0mnp\u001b[0m\u001b[0;34m.\u001b[0m\u001b[0minf\u001b[0m\u001b[0;34m]\u001b[0m\u001b[0;34m]\u001b[0m\u001b[0;34m)\u001b[0m\u001b[0;34m\u001b[0m\u001b[0;34m\u001b[0m\u001b[0m\n\u001b[0m\u001b[1;32m    805\u001b[0m \u001b[0;34m\u001b[0m\u001b[0m\n\u001b[1;32m    806\u001b[0m     \u001b[0;34m@\u001b[0m\u001b[0mstaticmethod\u001b[0m\u001b[0;34m\u001b[0m\u001b[0;34m\u001b[0m\u001b[0m\n",
      "\u001b[0;31mKeyboardInterrupt\u001b[0m: "
     ]
    },
    {
     "data": {
      "image/png": "[encoded data removed]",
      "text/plain": [
       "<Figure size 1440x360 with 4 Axes>"
      ]
     },
     "metadata": {
      "needs_background": "light"
     },
     "output_type": "display_data"
    }
   ],
   "source": [
    "# FEV1_MEAS\n",
    "import shutil\n",
    "PATH_input = PATH_input\n",
    "\n",
    "target_var = \"FEV1\"\n",
    "PATH_CAM =f\"/workspace/lung_pft/external_validation/05_CAM_with_v3/{target_var}\"\n",
    "PATH_CAM_thumb = f\"/workspace/lung_pft/external_validation/05_CAM_with_v3_thumbnail_210811/{target_var}\"\n",
    "PATH_CAM_thumb_cornal = f\"/workspace/lung_pft/external_validation/05_CAM_with_v3_thumbnail_210811/coronal/{target_var}\"\n",
    "PATH_CAM_thumb_sagittal = f\"/workspace/lung_pft/external_validation/05_CAM_with_v3_thumbnail_210811/sagittal_with_line/{target_var}\"\n",
    "if not os.path.isdir(PATH_CAM):\n",
    "    make_sequential_path(PATH_CAM)\n",
    "if not os.path.isdir(PATH_CAM_thumb):\n",
    "    make_sequential_path(PATH_CAM_thumb)\n",
    "if not os.path.isdir(PATH_CAM_thumb_cornal):\n",
    "    make_sequential_path(PATH_CAM_thumb_cornal)\n",
    "if not os.path.isdir(PATH_CAM_thumb_sagittal):\n",
    "    make_sequential_path(PATH_CAM_thumb_sagittal)\n",
    "    \n",
    "    \n",
    "\n",
    "\n",
    "    \n",
    "\n",
    "    \n",
    "#-------\n",
    "weightpath = weightpath_FEV1\n",
    "#---------------------------\n",
    "print(weightpath)\n",
    "model.load_weights(weightpath)\n",
    "# K.set_learning_phase(False)\n",
    "\n",
    "\n",
    "#--------------------------------------\n",
    "df_tmp = df_target.copy()\n",
    "print(df_tmp.shape)\n",
    "list_layeridx2show = list_mixed_idx[-5:-4]\n",
    "\n",
    "\n",
    "#--------------------------------------\n",
    "for i, _row in tqdm(df_tmp.iterrows()):\n",
    "    _examID = _row['HE0108(R5253A)검사접수번호']\n",
    "    _path = os.path.join(PATH_input, f\"{_examID}.hdr\" )\n",
    "#     _path_img = os.path.join(PATH_input, f\"{_examID}.img\" )  => 복사할 때 필요 했음.\n",
    "#     _PATH_CAM_save = os.path.join(PATH_CAM, f\"{_examID}.img\")\n",
    "\n",
    "#     # ID별로 폴더를 만든다.  => 샘플이 아니기 때문에 필요 없음\n",
    "#     if not os.path.isdir(_PATH_ID):\n",
    "#         os.mkdir(_PATH_ID)\n",
    "#         print(\"made ID_path-------> \", _PATH_ID)\n",
    "#     else:\n",
    "#         pass\n",
    "    \n",
    "#     # sample 이미지를 옮긴다. \n",
    "#     try:\n",
    "#         shutil.copy2(_path, _PATH_ID)\n",
    "#     except OSError as err:\n",
    "#         print(err)\n",
    "#     try:\n",
    "#         shutil.copy2(_path_img, _PATH_ID)\n",
    "#     except OSError as err:\n",
    "#         print(err)\n",
    "    \n",
    "        \n",
    "    \n",
    "#     print(_path)\n",
    "    \n",
    "    \n",
    "    img = load_image(_path)     # model predict시 이용.\n",
    "#     print(\"img shape:  \", img.shape)\n",
    "    img = np.expand_dims(img, axis = 0) # bath dimension 넣어 준다. \n",
    "#     print(\"after expansion img shape:  \", img.shape)\n",
    "\n",
    "    for _idx in list_layeridx2show:\n",
    "        layer_name = model.layers[_idx].name\n",
    "#         print( layer_name)\n",
    "\n",
    "#         ##############\n",
    "#         ## GradCAM  ##\n",
    "#         ##############\n",
    "        \n",
    "    \n",
    "        grad_CAM = GradCAM_3d(model, img, _idx)\n",
    "\n",
    "#         print(grad_CAM.shape)\n",
    "#         plot_3D_rough(grad_CAM, n_cols = 10)\n",
    "        \n",
    "\n",
    "        grad_CAM = resize_heatmap(img, grad_CAM)\n",
    "        \n",
    "        \n",
    "        #-------------\n",
    "        grad_CAM = min_max(grad_CAM)\n",
    "        grad_CAM = make_type_to_int(grad_CAM)\n",
    "        \n",
    "        grad_CAM_savename = _examID\n",
    "        \n",
    "        moveaxis_grad_CAM = np.moveaxis(grad_CAM, [0,1], [1,0])\n",
    "        moveaxis_grad_CAM = moveaxis_grad_CAM[::-1,:,:]\n",
    "        \n",
    "#         print(grad_CAM.shape)\n",
    "        \n",
    "#         save_to_3d(moveaxis_grad_CAM, PATH_CAM, grad_CAM_savename)\n",
    "        \n",
    "#         print(\"------------------> saved: \", grad_CAM_savename)\n",
    "        \n",
    "#         plot_3D_rough_full(grad_CAM,  _PATH_ID, grad_CAM_savename,n_cols = 10)\n",
    "        img = np.squeeze(img)\n",
    "#         print(img.shape,grad_CAM.shape )\n",
    "#         plot_save_sagittal(grad_CAM, img, PATH_CAM_thumb, grad_CAM_savename)\n",
    "        \n",
    "    \n",
    "    \n",
    "#         #######################\n",
    "#         ## AM: layer output  ##\n",
    "#         #######################\n",
    "\n",
    "\n",
    "\n",
    "#         layer_op = get_layer_op(model, img, _idx)\n",
    "\n",
    "\n",
    "        \n",
    "#         layer_AM = resize_heatmap(img, layer_op)\n",
    "        \n",
    "#         #-------------\n",
    "#         layer_AM = min_max(layer_AM)\n",
    "#         layer_AM = make_type_to_int(layer_AM)\n",
    "        \n",
    "#         moveaxis_layer_AM = np.moveaxis(layer_AM, [0,1], [1,0])\n",
    "#         moveaxis_layer_AM = moveaxis_layer_AM[::-1,:,:]\n",
    "        \n",
    "\n",
    "#         grad_CAM_savename = _examID\n",
    "#         save_to_3d(moveaxis_layer_AM, PATH_CAM, grad_CAM_savename)\n",
    "        \n",
    "# #         print(\"------------------> saved: \", grad_CAM_savename)\n",
    "        \n",
    "# #         plot_3D_rough_full(grad_CAM,  _PATH_ID, grad_CAM_savename,n_cols = 10)\n",
    "#         img = np.squeeze(img)\n",
    "# #         print(img.shape,grad_CAM.shape )\n",
    "\n",
    "\n",
    "\n",
    "\n",
    "#---------------------------------------------------------------------------------------------------------------------------\n",
    "#         plot_save_sagittal(layer_AM, img, PATH_CAM_thumb, grad_CAM_savename)\n",
    "    \n",
    "#---------------------------------------------------------------------------------------------------------------------------\n",
    "\n",
    "        f, a, idx1, idx2 = plot_max_coronal(grad_CAM, img )\n",
    "\n",
    "        plot_max_coronal_step2(f, a, df_tmp, target_var, PATH_CAM_thumb_cornal, grad_CAM_savename, _row)\n",
    "        plt.close(f)\n",
    "            \n",
    "        plot_save_sagittal_with_line(grad_CAM,img,PATH_CAM_thumb_sagittal, grad_CAM_savename, idx1, idx2 )\n",
    "#         break\n",
    "#     break\n",
    "        \n",
    "#     break\n",
    "        "
   ]
  },
  {
   "cell_type": "code",
   "execution_count": 20,
   "metadata": {},
   "outputs": [
    {
     "data": {
      "text/plain": [
       "'/workspace/lung_pft/external_validation/05_CAM_with_v3_thumbnail_210811/coronal/FEV1'"
      ]
     },
     "execution_count": 20,
     "metadata": {},
     "output_type": "execute_result"
    }
   ],
   "source": [
    "PATH_CAM_thumb_cornal\n"
   ]
  },
  {
   "cell_type": "code",
   "execution_count": null,
   "metadata": {},
   "outputs": [],
   "source": []
  },
  {
   "cell_type": "code",
   "execution_count": null,
   "metadata": {},
   "outputs": [],
   "source": []
  },
  {
   "cell_type": "code",
   "execution_count": null,
   "metadata": {},
   "outputs": [],
   "source": [
    "def bbox2_3D(img):\n",
    "\n",
    "    r = np.any(img, axis=(1, 2))\n",
    "    c = np.any(img, axis=(0, 2))\n",
    "    z = np.any(img, axis=(0, 1))\n",
    "\n",
    "    rmin, rmax = np.where(r)[0][[0, -1]]\n",
    "    cmin, cmax = np.where(c)[0][[0, -1]]\n",
    "    zmin, zmax = np.where(z)[0][[0, -1]]\n",
    "\n",
    "    return rmin, rmax, cmin, cmax, zmin, zmax\n",
    "\n",
    "\n",
    "def bbox2_3D_w_gap(img, gap):\n",
    "\n",
    "    r = np.any(img, axis=(1, 2))\n",
    "    c = np.any(img, axis=(0, 2))\n",
    "    z = np.any(img, axis=(0, 1))\n",
    "\n",
    "    rmin, rmax = np.where(r)[0][[0, -1]]\n",
    "    cmin, cmax = np.where(c)[0][[0, -1]]\n",
    "    zmin, zmax = np.where(z)[0][[0, -1]]\n",
    "    \n",
    "    rmin = rmin - gap\n",
    "    rmax = rmax + gap\n",
    "    cmin = cmin - gap\n",
    "    cmax = cmax + gap\n",
    "    zmin = zmin - gap\n",
    "    zmax = zmax +gap\n",
    "    \n",
    "\n",
    "    return rmin, rmax, cmin, cmax, zmin, zmax"
   ]
  },
  {
   "cell_type": "code",
   "execution_count": null,
   "metadata": {},
   "outputs": [],
   "source": [
    "def save_to_3d(_IMG, _SAVE_PATH , _ID):\n",
    "    img= sitk.GetImageFromArray(_IMG)    \n",
    "    output_filename = os.path.join(_SAVE_PATH, f\"{_ID}.hdr\")\n",
    "    print(output_filename)\n",
    "    sitk.WriteImage(img, output_filename)"
   ]
  },
  {
   "cell_type": "code",
   "execution_count": null,
   "metadata": {},
   "outputs": [],
   "source": [
    "# https://stackoverflow.com/questions/31400769/bounding-box-of-numpy-array"
   ]
  },
  {
   "cell_type": "code",
   "execution_count": null,
   "metadata": {
    "scrolled": true
   },
   "outputs": [],
   "source": [
    "from skimage.transform import rescale, resize, downscale_local_mean\n",
    "from tqdm import tqdm\n",
    "\n",
    "for i, _row in tqdm(df_sample.iterrows()):\n",
    "    \n",
    "    _examID = _row['HE0108(R5253A)검사접수번호']\n",
    "    # 1. import\n",
    "    path_img = os.path.join(  \"/workspace/lung_pft/external_validation/\" , \"03_crop_padded\", f\"{_examID}.hdr\")\n",
    "    path_lung = os.path.join(  \"/workspace/lung_pft/external_validation/\" , \"04_lung_seg_mask/04_02_Lung_Mask_crop_padded\", f\"{_examID}.hdr\")\n",
    "    path_CAM = glob.glob(os.path.join(  \"/workspace/lung_pft/external_validation\" ,f\"05_CAM_sample/{_examID}\", f\"*_{_examID}_FEV1_Mixed_4d.hdr\"))[0]\n",
    "    img = sitk.GetArrayFromImage(sitk.ReadImage(path_img))\n",
    "    img_lung = sitk.GetArrayFromImage(sitk.ReadImage(path_lung))\n",
    "#     img_CAM = sitk.GetArrayFromImage(sitk.ReadImage(path_CAM))\n",
    "\n",
    "#     print(img_lung.shape, img_CAM.shape)\n",
    "    \n",
    "    # 2 get boundary box of img_lung    \n",
    "    z1,z2, y1,y2,x1,x2 = bbox2_3D(img_lung)\n",
    "    \n",
    "    cropped_img = img[z1:z2, y1:y2, x1:x2]\n",
    "    cropped_lung = img_lung[z1:z2, y1:y2, x1:x2]\n",
    "    cropped_CAM = img_CAM[z1:z2, y1:y2, x1:x2]\n",
    "#     save_to_3d(cropped_img, f\"/workspace/lung_pft/external_validation/05_CAM_sample/{_examID}\", f\"{_examID}_cropped_before_resize\")\n",
    "#     save_to_3d(cropped_lung, f\"/workspace/lung_pft/external_validation/05_CAM_sample/{_examID}\", f\"{_examID}_cropped_lung_before_resize\")\n",
    "#     save_to_3d(cropped_CAM, f\"/workspace/lung_pft/external_validation/05_CAM_sample/{_examID}\", f\"{_examID}_cropped_CAM_before_resize\")\n",
    "\n",
    "    \n",
    "    # set target ATLAS shape and resample CAM images = > scale의 문제\n",
    "    target_shape = (120, 60, 90)\n",
    "    \n",
    "    resized_img = resize(cropped_img, target_shape,order = 3, \n",
    "#                          anti_aliasing=True, \n",
    "                         preserve_range= True)\n",
    "    resized_lung =resize(cropped_lung, target_shape, order =0\n",
    "                         ,preserve_range= True)  #mask nearest neighbor\n",
    "    resized_CAM =resize(cropped_CAM, target_shape,order = 3, \n",
    "#                         anti_aliasing=True, \n",
    "                        preserve_range= True)  \n",
    "    save_to_3d(resized_img, f\"/workspace/lung_pft/external_validation/05_CAM_sample/{_examID}\", f\"{_examID}_cropped_after_resize\")\n",
    "    save_to_3d(resized_lung, f\"/workspace/lung_pft/external_validation/05_CAM_sample/{_examID}\", f\"{_examID}_cropped_lung_after_resize\")\n",
    "    save_to_3d(resized_CAM, f\"/workspace/lung_pft/external_validation/05_CAM_sample/{_examID}\", f\"{_examID}_cropped_CAM_after_resize\")\n",
    "    \n",
    "    \n",
    "#     break\n",
    "    \n",
    "    if i ==0:\n",
    "        stacked_CAM = np.empty((len(df_tmp), target_shape[0], target_shape[1], target_shape[2]))\n",
    "        stacked_lungmask = np.empty((len(df_tmp), target_shape[0], target_shape[1], target_shape[2]))\n",
    "    stacked_CAM[i] =  resized_CAM\n",
    "    stacked_lungmask[i] = resized_lung\n",
    "    \n",
    "averaged_CAM = np.average(stacked_CAM, axis = 0)\n",
    "save_to_3d(averaged_CAM, f\"/workspace/lung_pft/external_validation/05_CAM_sample\", \"average_CAM_10\")\n",
    "save_to_3d(stacked_lungmask, f\"/workspace/lung_pft/external_validation/05_CAM_sample\", \"average_lung_10\")"
   ]
  },
  {
   "cell_type": "code",
   "execution_count": null,
   "metadata": {},
   "outputs": [],
   "source": [
    "averaged_CAM = np.average(stacked_CAM, axis = 0)\n",
    "averaged_CAM = min_max(averaged_CAM)\n",
    "averaged_CAM = make_type_to_int(averaged_CAM)\n",
    "\n",
    "save_to_3d(averaged_CAM, f\"/workspace/lung_pft/external_validation/05_CAM_sample\", \"average_CAM_10_min__maxed\")\n"
   ]
  },
  {
   "cell_type": "code",
   "execution_count": null,
   "metadata": {},
   "outputs": [],
   "source": [
    "plt.hist(averaged_CAM.ravel())"
   ]
  },
  {
   "cell_type": "code",
   "execution_count": null,
   "metadata": {},
   "outputs": [],
   "source": [
    "plt.hist(stacked_lungmask.ravel())"
   ]
  },
  {
   "cell_type": "code",
   "execution_count": null,
   "metadata": {},
   "outputs": [],
   "source": [
    "lung_mask_tmp = stacked_lungmask.copy()\n",
    "lung_mask_tmp = np.average(lung_mask_tmp, axis = 0)\n",
    "lung_mask_tmp = min_max(lung_mask_tmp)\n",
    "lung_mask_tmp = make_type_to_int(lung_mask_tmp)\n",
    "save_to_3d(lung_mask_tmp, f\"/workspace/lung_pft/external_validation/05_CAM_sample\", \"average_lung_10_min_maxed_255\")"
   ]
  },
  {
   "cell_type": "code",
   "execution_count": null,
   "metadata": {},
   "outputs": [],
   "source": [
    "save_to_3d(stacked_lungmask, f\"/workspace/lung_pft/external_validation/05_CAM_sample\", \"average_lung_10\")"
   ]
  },
  {
   "cell_type": "code",
   "execution_count": null,
   "metadata": {},
   "outputs": [],
   "source": []
  },
  {
   "cell_type": "code",
   "execution_count": null,
   "metadata": {},
   "outputs": [],
   "source": []
  },
  {
   "cell_type": "code",
   "execution_count": null,
   "metadata": {},
   "outputs": [],
   "source": []
  },
  {
   "cell_type": "code",
   "execution_count": null,
   "metadata": {},
   "outputs": [],
   "source": []
  },
  {
   "cell_type": "code",
   "execution_count": null,
   "metadata": {},
   "outputs": [],
   "source": []
  },
  {
   "cell_type": "code",
   "execution_count": null,
   "metadata": {},
   "outputs": [],
   "source": [
    "# df_tmp.to_excel(os.path.join(\"/workspace/lung_pft/external_validation/05_CAM\", \"FV2018_sample_300.xlsx\"))"
   ]
  },
  {
   "cell_type": "code",
   "execution_count": null,
   "metadata": {},
   "outputs": [],
   "source": [
    "# 300건/5시간"
   ]
  },
  {
   "cell_type": "code",
   "execution_count": null,
   "metadata": {},
   "outputs": [],
   "source": [
    "\n",
    "plt.scatter(df_tmp.sort_values(by = \"FEV1_MEAS\", ascending = True).reset_index().index, df_tmp.sort_values(by = \"FEV1_MEAS\", ascending = True)[\"FEV1_MEAS\"])"
   ]
  },
  {
   "cell_type": "code",
   "execution_count": null,
   "metadata": {},
   "outputs": [],
   "source": [
    "df_tmp.keys()"
   ]
  },
  {
   "cell_type": "code",
   "execution_count": null,
   "metadata": {},
   "outputs": [],
   "source": [
    "df_tmp_sorted_by_FEV1= df_tmp.sort_values(by = \"FEV1_MEAS\", ascending = True).reset_index(drop = False)\n",
    "\n",
    "\n",
    "\n",
    "plt.scatter(df_2018[\"FEV1_MEAS\"],df_2018['modelpredicted(FEV1_MEAS)'] )\n",
    "plt.scatter(df_tmp_sorted_by_FEV1[\"FEV1_MEAS\"],df_tmp_sorted_by_FEV1['modelpredicted(FEV1_MEAS)'] )\n",
    "\n",
    "plt.xlabel(\"FEV1_MEAS\")\n",
    "plt.ylabel(\"FEV1_MEAS estimation\")\n",
    "plt.savefig(os.path.join(\"/workspace/lung_pft/external_validation/05_CAM\", \"FV2018_sample_300_FEV1_meas\"))"
   ]
  },
  {
   "cell_type": "code",
   "execution_count": null,
   "metadata": {},
   "outputs": [],
   "source": [
    "df_tmp_sorted_by_FEV1= df_tmp.sort_values(by = \"FEV1_MEAS\", ascending = True).reset_index(drop = False)\n",
    "\n",
    "\n",
    "\n",
    "plt.scatter(df_2018[\"\"],df_2018['modelpredicted(FEV1_MEAS)'] )\n",
    "plt.scatter(df_tmp_sorted_by_FEV1[\"FEV1_MEAS\"],df_tmp_sorted_by_FEV1['modelpredicted(FEV1_MEAS)'] )\n",
    "\n",
    "plt.xlabel(\"FEV1_MEAS\")\n",
    "plt.ylabel(\"FEV1_MEAS estimation\")\n",
    "plt.savefig(os.path.join(\"/workspace/lung_pft/external_validation/05_CAM\", \"FV2018_sample_300_FEV1_meas\"))"
   ]
  },
  {
   "cell_type": "code",
   "execution_count": null,
   "metadata": {},
   "outputs": [],
   "source": []
  },
  {
   "cell_type": "code",
   "execution_count": null,
   "metadata": {},
   "outputs": [],
   "source": []
  },
  {
   "cell_type": "code",
   "execution_count": null,
   "metadata": {},
   "outputs": [],
   "source": [
    "df_tmp_sorted_by_FEV1.head()\n",
    "df_tmp_sorted_by_FEV1.to_excel(os.path.join(\"/workspace/lung_pft/external_validation/05_CAM\", \"FV2018_sample_300_sorted_by_FEV1.xlsx\"))"
   ]
  },
  {
   "cell_type": "code",
   "execution_count": null,
   "metadata": {},
   "outputs": [],
   "source": [
    "df_tmp.shape"
   ]
  },
  {
   "cell_type": "code",
   "execution_count": null,
   "metadata": {
    "scrolled": true
   },
   "outputs": [],
   "source": [
    "from skimage.transform import rescale, resize, downscale_local_mean\n",
    "from tqdm import tqdm\n",
    "\n",
    "\n",
    "df_tmp = df_2018.sample(n = 300, random_state =30).reset_index(drop = True)\n",
    "#------------------------------------------------------------------------------------\n",
    "\n",
    "import shutil\n",
    "PATH_input = \"/workspace/lung_pft/external_validation/03_crop_padded\"\n",
    "PATH_CAM_sample =\"/workspace/lung_pft/external_validation/05_CAM\"\n",
    "# PATH_CAM_sample = \"/workspace/nas100_vol2/projects/04_PFT/data/Toy2_3000/LAYER_OP_sample_0324\"\n",
    "if not os.path.isdir(PATH_CAM_sample):\n",
    "    os.mkdir(PATH_CAM_sample)\n",
    "    \n",
    "    #-------\n",
    "weightpath = \"/workspace/nas100_vol2/projects/04_PFT/PFT_TOY2_I3D_regression_with_preprocessing_v2/result_PFT_TOY2_v2_i3d_incepV1_FEV1_MEAS_1ch_nf140_00/weights/train_weights_epoch_117.h5\"\n",
    "print(weightpath)\n",
    "model.load_weights(weightpath)\n",
    "K.set_learning_phase(0) \n",
    "\n",
    "\n",
    "#--------------------------------------\n",
    "\n",
    "list_layeridx2show = list_mixed_idx[-5:-4]\n",
    "\n",
    "\n",
    "#--------------------------------------\n",
    "for i, _row in df_tmp.iterrows():\n",
    "    print(i)\n",
    "    _examID = _row['HE0108(R5253A)검사접수번호']\n",
    "    _path = os.path.join(PATH_input, f\"{_examID}.hdr\" )\n",
    "    _path_img = os.path.join(PATH_input, f\"{_examID}.img\" )\n",
    "    _PATH_ID = os.path.join(PATH_CAM_sample, str(_examID))\n",
    "    # ID별로 폴더를 만든다.\n",
    "    if not os.path.isdir(_PATH_ID):\n",
    "        os.mkdir(_PATH_ID)\n",
    "        print(\"made ID_path-------> \", _PATH_ID)\n",
    "    else:\n",
    "        pass\n",
    "    \n",
    "    # sample 이미지를 옮긴다. \n",
    "    try:\n",
    "        shutil.copy2(_path, _PATH_ID)\n",
    "    except OSError as err:\n",
    "        print(err)\n",
    "    try:\n",
    "        shutil.copy2(_path_img, _PATH_ID)\n",
    "    except OSError as err:\n",
    "        print(err)\n",
    "    \n",
    "        \n",
    "    \n",
    "    print(_path)\n",
    "    \n",
    "    \n",
    "    img = load_image(_path)     # model predict시 이용.\n",
    "#     save_to_3d(img_3d, PATH_CAM_sample, \"img_3d_by_load_array\")\n",
    "#     save_to_3d(img, PATH_CAM_sample, \"img_by_load_image\")\n",
    "    \n",
    "    img = np.expand_dims(img, axis = 0) # bath dimension 넣어 준다. \n",
    "    \n",
    "    \n",
    "    \n",
    "    \n",
    "#     print(img_3d.shape)\n",
    "    print(\"img shape:  \", img.shape)\n",
    "\n",
    "    for _idx in list_layeridx2show:\n",
    "        layer_name = model.layers[_idx].name\n",
    "        print( layer_name)\n",
    "\n",
    "        ##############\n",
    "        ## GradCAM  ##\n",
    "        ##############\n",
    "        \n",
    "    \n",
    "        grad_CAM = GradCAM_3d(model, img, _idx)\n",
    "\n",
    "#         print(grad_CAM.shape)\n",
    "#         plot_3D_rough(grad_CAM, n_cols = 10)\n",
    "        \n",
    "\n",
    "        grad_CAM = resize_heatmap(img, grad_CAM)\n",
    "        \n",
    "        \n",
    "        #-------------\n",
    "        grad_CAM = min_max(grad_CAM)\n",
    "        grad_CAM = make_type_to_int(grad_CAM)\n",
    "        \n",
    "        grad_CAM_savename = f\"{i}_{_examID}_FEV1_{layer_name}\"\n",
    "        \n",
    "        moveaxis_grad_CAM = np.moveaxis(grad_CAM, [0,1], [1,0])\n",
    "        moveaxis_grad_CAM = moveaxis_grad_CAM[::-1,:,:]\n",
    "        \n",
    "        print(grad_CAM.shape)\n",
    "        \n",
    "        save_to_3d(moveaxis_grad_CAM, _PATH_ID, grad_CAM_savename)\n",
    "        \n",
    "        print(\"------------------> saved: \", grad_CAM_savename)\n",
    "        \n",
    "#         plot_3D_rough_full(grad_CAM,  _PATH_ID, grad_CAM_savename,n_cols = 10)\n",
    "        img = np.squeeze(img)\n",
    "        print(img.shape,grad_CAM.shape )\n",
    "        plot_save_sagittal(grad_CAM, img, _PATH_ID, grad_CAM_savename)\n",
    "        \n",
    "\n",
    "\n",
    "\n",
    "\n",
    "\n",
    "\n",
    "\n",
    "\n",
    "\n",
    "\n",
    "\n",
    "\n"
   ]
  },
  {
   "cell_type": "code",
   "execution_count": null,
   "metadata": {},
   "outputs": [],
   "source": [
    "li"
   ]
  },
  {
   "cell_type": "code",
   "execution_count": null,
   "metadata": {},
   "outputs": [],
   "source": [
    "list_ID_saving_after_resize = []\n",
    "#-------------------------------------------------------------------------------------------------------------------------\n",
    "\n",
    "for i, _row in tqdm(df_tmp.iterrows()):\n",
    "    \n",
    "    _examID = _row['HE0108(R5253A)검사접수번호']\n",
    "    # 1. import\n",
    "    path_img = os.path.join(  \"/workspace/lung_pft/external_validation/\" , \"03_crop_padded\", f\"{_examID}.hdr\")\n",
    "    path_lung = os.path.join(  \"/workspace/lung_pft/external_validation/\" , \"04_lung_seg_mask/04_02_Lung_Mask_crop_padded\", f\"{_examID}.hdr\")\n",
    "    path_CAM = glob.glob(os.path.join(  \"/workspace/lung_pft/external_validation\" ,f\"05_CAM/{_examID}\", f\"*_{_examID}_FEV1_Mixed_4d.hdr\"))[0]\n",
    "    img = sitk.GetArrayFromImage(sitk.ReadImage(path_img))\n",
    "    img_lung = sitk.GetArrayFromImage(sitk.ReadImage(path_lung))\n",
    "#     img_CAM = sitk.GetArrayFromImage(sitk.ReadImage(path_CAM))\n",
    "\n",
    "#     print(img_lung.shape, img_CAM.shape)\n",
    "    \n",
    "    # 2 get boundary box of img_lung    \n",
    "    z1,z2, y1,y2,x1,x2 = bbox2_3D(img_lung)\n",
    "    \n",
    "    cropped_img = img[z1:z2, y1:y2, x1:x2]\n",
    "    cropped_lung = img_lung[z1:z2, y1:y2, x1:x2]\n",
    "    cropped_CAM = img_CAM[z1:z2, y1:y2, x1:x2]\n",
    "\n",
    "    target_shape = (120, 60, 90)\n",
    "    resized_img = resize(cropped_img, target_shape,order = 3, \n",
    "#                          anti_aliasing=True, \n",
    "                         preserve_range= True)\n",
    "    resized_lung =resize(cropped_lung, target_shape, order =0\n",
    "                         ,preserve_range= True)  #mask nearest neighbor\n",
    "    resized_CAM =resize(cropped_CAM, target_shape,order = 3, \n",
    "#                         anti_aliasing=True, \n",
    "                        preserve_range= True)  \n",
    "\n",
    "    \n",
    "    \n",
    "#     break\n",
    "    \n",
    "    if i ==0:\n",
    "        stacked_CAM = np.empty((len(df_tmp), target_shape[0], target_shape[1], target_shape[2]))\n",
    "        stacked_lungmask = np.empty((len(df_tmp), target_shape[0], target_shape[1], target_shape[2]))\n",
    "        \n",
    "    stacked_CAM[i] =  resized_CAM\n",
    "    stacked_lungmask[i] = resized_lung\n",
    "    \n",
    "    if i%15==0:\n",
    "        list_ID_saving_after_resize.append(_examID)\n",
    "        save_to_3d(resized_img, f\"/workspace/lung_pft/external_validation/05_CAM/{_examID}\", f\"{_examID}_cropped_after_resize\")\n",
    "        save_to_3d(resized_lung, f\"/workspace/lung_pft/external_validation/05_CAM/{_examID}\", f\"{_examID}_cropped_lung_after_resize\")\n",
    "        save_to_3d(resized_CAM, f\"/workspace/lung_pft/external_validation/05_CAM/{_examID}\", f\"{_examID}_cropped_CAM_after_resize\")\n",
    "#--------------------------------------------------------------------------------------------------------------------------------------------------------------------------------------------\n",
    "averaged_CAM = np.average(stacked_CAM, axis = 0)\n",
    "averaged_CAM = min_max(averaged_CAM)\n",
    "averaged_CAM = make_type_to_int(averaged_CAM)\n",
    "save_to_3d(averaged_CAM, f\"/workspace/lung_pft/external_validation/05_CAM\", \"average_CAM_300_210421\")\n",
    "\n",
    "\n",
    "averaged_lungmask = np.average(stacked_lungmask, axis = 0)\n",
    "averaged_lungmask = min_max(averaged_lungmask)\n",
    "averaged_lungmask = make_type_to_int(averaged_lungmask)\n",
    "\n",
    "save_to_3d(averaged_lungmask, f\"/workspace/lung_pft/external_validation/05_CAM\", \"average_lung_mask_300_210421\")\n",
    "    \n",
    "    \n",
    "#     break"
   ]
  },
  {
   "cell_type": "code",
   "execution_count": null,
   "metadata": {},
   "outputs": [],
   "source": [
    "list_ID_saving_after_resize"
   ]
  },
  {
   "cell_type": "code",
   "execution_count": null,
   "metadata": {},
   "outputs": [],
   "source": []
  },
  {
   "cell_type": "code",
   "execution_count": null,
   "metadata": {},
   "outputs": [],
   "source": []
  },
  {
   "cell_type": "markdown",
   "metadata": {},
   "source": [
    "# FVC"
   ]
  },
  {
   "cell_type": "code",
   "execution_count": null,
   "metadata": {
    "scrolled": true
   },
   "outputs": [],
   "source": [
    "from skimage.transform import rescale, resize, downscale_local_mean\n",
    "from tqdm import tqdm\n",
    "\n",
    "\n",
    "# df_tmp = df_2018.sample(n = 300, random_state =30).reset_index(drop = True)\n",
    "#------------------------------------------------------------------------------------\n",
    "\n",
    "import shutil\n",
    "PATH_input = \"/workspace/lung_pft/external_validation/03_crop_padded\"\n",
    "PATH_CAM_sample =\"/workspace/lung_pft/external_validation/05_CAM_FVC\"\n",
    "# PATH_CAM_sample = \"/workspace/nas100_vol2/projects/04_PFT/data/Toy2_3000/LAYER_OP_sample_0324\"\n",
    "if not os.path.isdir(PATH_CAM_sample):\n",
    "    os.mkdir(PATH_CAM_sample)\n",
    "    \n",
    "    #-------\n",
    "weightpath = '/workspace/nas100_vol2/projects/04_PFT/PFT_TOY2_I3D_regression_with_preprocessing_v2/result_PFT_TOY2_v2_i3d_incepV1_FVC_MEAS_1ch_nf140_00/weights/train_weights_epoch_130.h5'\n",
    "print(weightpath)\n",
    "model.load_weights(weightpath)\n",
    "K.set_learning_phase(0) \n",
    "\n",
    "\n",
    "#--------------------------------------\n",
    "\n",
    "list_layeridx2show = list_mixed_idx[-5:-4]\n",
    "\n",
    "\n",
    "#--------------------------------------\n",
    "for i, _row in df_tmp.iterrows():\n",
    "    print(i)\n",
    "    _examID = _row['HE0108(R5253A)검사접수번호']\n",
    "    _path = os.path.join(PATH_input, f\"{_examID}.hdr\" )\n",
    "    _path_img = os.path.join(PATH_input, f\"{_examID}.img\" )\n",
    "    _PATH_ID = os.path.join(PATH_CAM_sample, str(_examID))\n",
    "    # ID별로 폴더를 만든다.\n",
    "    if not os.path.isdir(_PATH_ID):\n",
    "        os.mkdir(_PATH_ID)\n",
    "        print(\"made ID_path-------> \", _PATH_ID)\n",
    "    else:\n",
    "        pass\n",
    "    \n",
    "    # sample 이미지를 옮긴다. \n",
    "    try:\n",
    "        shutil.copy2(_path, _PATH_ID)\n",
    "    except OSError as err:\n",
    "        print(err)\n",
    "    try:\n",
    "        shutil.copy2(_path_img, _PATH_ID)\n",
    "    except OSError as err:\n",
    "        print(err)\n",
    "    \n",
    "        \n",
    "    \n",
    "    print(_path)\n",
    "    \n",
    "    \n",
    "    img = load_image(_path)     # model predict시 이용.\n",
    "#     save_to_3d(img_3d, PATH_CAM_sample, \"img_3d_by_load_array\")\n",
    "#     save_to_3d(img, PATH_CAM_sample, \"img_by_load_image\")\n",
    "    \n",
    "    img = np.expand_dims(img, axis = 0) # bath dimension 넣어 준다. \n",
    "    \n",
    "    \n",
    "    \n",
    "    \n",
    "#     print(img_3d.shape)\n",
    "    print(\"img shape:  \", img.shape)\n",
    "\n",
    "    for _idx in list_layeridx2show:\n",
    "        layer_name = model.layers[_idx].name\n",
    "        print( layer_name)\n",
    "\n",
    "        ##############\n",
    "        ## GradCAM  ##\n",
    "        ##############\n",
    "        \n",
    "    \n",
    "        grad_CAM = GradCAM_3d(model, img, _idx)\n",
    "\n",
    "#         print(grad_CAM.shape)\n",
    "#         plot_3D_rough(grad_CAM, n_cols = 10)\n",
    "        \n",
    "\n",
    "        grad_CAM = resize_heatmap(img, grad_CAM)\n",
    "        \n",
    "        \n",
    "        #-------------\n",
    "        grad_CAM = min_max(grad_CAM)\n",
    "        grad_CAM = make_type_to_int(grad_CAM)\n",
    "        \n",
    "        grad_CAM_savename = f\"{i}_{_examID}_FVC_{layer_name}\"\n",
    "        \n",
    "        moveaxis_grad_CAM = np.moveaxis(grad_CAM, [0,1], [1,0])\n",
    "        moveaxis_grad_CAM = moveaxis_grad_CAM[::-1,:,:]\n",
    "        \n",
    "        print(grad_CAM.shape)\n",
    "        \n",
    "        save_to_3d(moveaxis_grad_CAM, _PATH_ID, grad_CAM_savename)\n",
    "        \n",
    "        print(\"------------------> saved: \", grad_CAM_savename)\n",
    "        \n",
    "#         plot_3D_rough_full(grad_CAM,  _PATH_ID, grad_CAM_savename,n_cols = 10)\n",
    "        img = np.squeeze(img)\n",
    "        print(img.shape,grad_CAM.shape )\n",
    "        plot_save_sagittal(grad_CAM, img, _PATH_ID, grad_CAM_savename)\n",
    "        \n",
    "\n",
    "\n",
    "\n",
    "\n",
    "\n",
    "\n",
    "\n",
    "\n",
    "\n",
    "\n",
    "\n",
    "\n"
   ]
  },
  {
   "cell_type": "code",
   "execution_count": null,
   "metadata": {},
   "outputs": [],
   "source": [
    "list_ID_saving_after_resize = []\n",
    "#-------------------------------------------------------------------------------------------------------------------------\n",
    "\n",
    "for i, _row in tqdm(df_tmp.iterrows()):\n",
    "    \n",
    "    _examID = _row['HE0108(R5253A)검사접수번호']\n",
    "    # 1. import\n",
    "    path_img = os.path.join(  \"/workspace/lung_pft/external_validation/\" , \"03_crop_padded\", f\"{_examID}.hdr\")\n",
    "    path_lung = os.path.join(  \"/workspace/lung_pft/external_validation/\" , \"04_lung_seg_mask/04_02_Lung_Mask_crop_padded\", f\"{_examID}.hdr\")\n",
    "    path_CAM = glob.glob(os.path.join(  \"/workspace/lung_pft/external_validation\" ,f\"05_CAM_FVC/{_examID}\", f\"*_{_examID}_FVC_Mixed_4d.hdr\"))[0]\n",
    "    img = sitk.GetArrayFromImage(sitk.ReadImage(path_img))\n",
    "    img_lung = sitk.GetArrayFromImage(sitk.ReadImage(path_lung))\n",
    "#     img_CAM = sitk.GetArrayFromImage(sitk.ReadImage(path_CAM))\n",
    "\n",
    "#     print(img_lung.shape, img_CAM.shape)\n",
    "    \n",
    "    # 2 get boundary box of img_lung    \n",
    "    z1,z2, y1,y2,x1,x2 = bbox2_3D(img_lung)\n",
    "    \n",
    "    cropped_img = img[z1:z2, y1:y2, x1:x2]\n",
    "    cropped_lung = img_lung[z1:z2, y1:y2, x1:x2]\n",
    "    cropped_CAM = img_CAM[z1:z2, y1:y2, x1:x2]\n",
    "\n",
    "    target_shape = (120, 60, 90)\n",
    "    resized_img = resize(cropped_img, target_shape,order = 3, \n",
    "#                          anti_aliasing=True, \n",
    "                         preserve_range= True)\n",
    "    resized_lung =resize(cropped_lung, target_shape, order =0\n",
    "                         ,preserve_range= True)  #mask nearest neighbor\n",
    "    resized_CAM =resize(cropped_CAM, target_shape,order = 3, \n",
    "#                         anti_aliasing=True, \n",
    "                        preserve_range= True)  \n",
    "\n",
    "    \n",
    "    \n",
    "#     break\n",
    "    \n",
    "    if i ==0:\n",
    "        stacked_CAM = np.empty((len(df_tmp), target_shape[0], target_shape[1], target_shape[2]))\n",
    "        stacked_lungmask = np.empty((len(df_tmp), target_shape[0], target_shape[1], target_shape[2]))\n",
    "        \n",
    "    stacked_CAM[i] =  resized_CAM\n",
    "    stacked_lungmask[i] = resized_lung\n",
    "    \n",
    "    if i%15==0:\n",
    "        list_ID_saving_after_resize.append(_examID)\n",
    "        save_to_3d(resized_img, f\"/workspace/lung_pft/external_validation/05_CAM_FVC/{_examID}\", f\"{_examID}_cropped_after_resize\")\n",
    "        save_to_3d(resized_lung, f\"/workspace/lung_pft/external_validation/05_CAM_FVC/{_examID}\", f\"{_examID}_cropped_lung_after_resize\")\n",
    "        save_to_3d(resized_CAM, f\"/workspace/lung_pft/external_validation/05_CAM_FVC/{_examID}\", f\"{_examID}_cropped_CAM_after_resize\")\n",
    "#--------------------------------------------------------------------------------------------------------------------------------------------------------------------------------------------\n",
    "averaged_CAM = np.average(stacked_CAM, axis = 0)\n",
    "averaged_CAM = min_max(averaged_CAM)\n",
    "averaged_CAM = make_type_to_int(averaged_CAM)\n",
    "save_to_3d(averaged_CAM, f\"/workspace/lung_pft/external_validation/05_CAM_FVC\", \"average_CAM_300_210421_FVC\")\n",
    "\n",
    "\n",
    "averaged_lungmask = np.average(stacked_lungmask, axis = 0)\n",
    "averaged_lungmask = min_max(averaged_lungmask)\n",
    "averaged_lungmask = make_type_to_int(averaged_lungmask)\n",
    "\n",
    "save_to_3d(averaged_lungmask, f\"/workspace/lung_pft/external_validation/05_CAM_FVC\", \"average_lung_mask_300_210421_FVC\")\n",
    "\n",
    "\n",
    "\n",
    "    \n",
    "#     break"
   ]
  },
  {
   "cell_type": "code",
   "execution_count": null,
   "metadata": {},
   "outputs": [],
   "source": [
    "[1852195361, 1852169206, 1852040769, 1852120126, 1852161393, 1852262436, 1852337494, 1852128454, 1852180056, 1852235434, 1852334415, 1852020531, 1852097763, 1852095151, 1852022897, 1852045185, 1852182629, 1852214985, 1852306800, 1852203583]\n",
    "print(list_ID_saving_after_resize)"
   ]
  },
  {
   "cell_type": "code",
   "execution_count": null,
   "metadata": {},
   "outputs": [],
   "source": [
    "print(list_ID_saving_after_resize)"
   ]
  },
  {
   "cell_type": "code",
   "execution_count": null,
   "metadata": {},
   "outputs": [],
   "source": []
  },
  {
   "cell_type": "code",
   "execution_count": null,
   "metadata": {},
   "outputs": [],
   "source": []
  },
  {
   "cell_type": "code",
   "execution_count": null,
   "metadata": {},
   "outputs": [],
   "source": []
  },
  {
   "cell_type": "code",
   "execution_count": null,
   "metadata": {},
   "outputs": [],
   "source": []
  },
  {
   "cell_type": "code",
   "execution_count": null,
   "metadata": {},
   "outputs": [],
   "source": []
  },
  {
   "cell_type": "code",
   "execution_count": null,
   "metadata": {},
   "outputs": [],
   "source": []
  },
  {
   "cell_type": "code",
   "execution_count": null,
   "metadata": {},
   "outputs": [],
   "source": [
    "stacked_CAM.shape"
   ]
  },
  {
   "cell_type": "code",
   "execution_count": null,
   "metadata": {},
   "outputs": [],
   "source": [
    "plt.hist(stacked_CAM.ravel())\n",
    "print(\"stacked\",np.max(stacked_CAM), stacked_CAM.shape)\n",
    "plt.show()\n",
    "\n",
    "plt.hist(resized_CAM.ravel())\n",
    "print(\"resized\",np.max(resized_CAM), resized_CAM.shape)\n",
    "plt.show()\n",
    "\n",
    "plt.hist(averaged_CAM.ravel())\n",
    "print(\"averaged\" , np.max(averaged_CAM), averaged_CAM.shape)\n",
    "plt.show()\n"
   ]
  },
  {
   "cell_type": "code",
   "execution_count": null,
   "metadata": {},
   "outputs": [],
   "source": [
    "averaged_lungmask = np.average(stacked_lungmask, axis = 0)\n",
    "averaged_lungmask_255 = make_type_to_int(averaged_lungmask)\n",
    "save_to_3d(averaged_lungmask_255, f\"/workspace/lung_pft/external_validation/05_CAM\", \"average_lung_mask_300\")"
   ]
  },
  {
   "cell_type": "code",
   "execution_count": null,
   "metadata": {},
   "outputs": [],
   "source": [
    "plt.hist(stacked_lungmask.ravel())\n",
    "plt.yscale(\"log\")"
   ]
  },
  {
   "cell_type": "code",
   "execution_count": null,
   "metadata": {},
   "outputs": [],
   "source": []
  },
  {
   "cell_type": "code",
   "execution_count": null,
   "metadata": {},
   "outputs": [],
   "source": []
  },
  {
   "cell_type": "code",
   "execution_count": null,
   "metadata": {},
   "outputs": [],
   "source": [
    "plt.hist(cropped_img.ravel())\n",
    "plt.show()\n",
    "print(cropped_img.ravel().min(), cropped_img.ravel().max())\n",
    "\n",
    "\n",
    "plt.hist(resized_img.ravel())\n",
    "plt.show()\n",
    "print(resized_img.ravel().min(), resized_img.ravel().max())\n",
    "\n",
    "\n",
    "plt.hist(cropped_lung.ravel())\n",
    "plt.show()\n",
    "print(cropped_lung.ravel().min(), cropped_lung.ravel().max())\n",
    "\n",
    "\n",
    "\n",
    "\n",
    "plt.hist(resized_lung.ravel())\n",
    "plt.show()\n",
    "print(resized_lung.ravel().min(), resized_lung.ravel().max())\n",
    "\n",
    "\n",
    "plt.hist(cropped_CAM.ravel())\n",
    "plt.show()\n",
    "print(cropped_CAM.ravel().min(), cropped_CAM.ravel().max())\n",
    "\n",
    "\n",
    "plt.hist(resized_CAM.ravel())\n",
    "plt.show()\n",
    "print(resized_CAM.ravel().min(), resized_CAM.ravel().max())"
   ]
  },
  {
   "cell_type": "code",
   "execution_count": null,
   "metadata": {},
   "outputs": [],
   "source": [
    "# (110, 67, 99)\n",
    "# (112, 68, 107)\n",
    "# (108, 81, 110)\n",
    "# (101, 67, 101)\n",
    "# (84, 59, 98)\n",
    "# (115, 75, 119)\n",
    "# (130, 68, 106)\n",
    "# (108, 55, 104)\n",
    "# (95, 79, 112)\n",
    "# (111, 59, 92)"
   ]
  },
  {
   "cell_type": "code",
   "execution_count": null,
   "metadata": {},
   "outputs": [],
   "source": []
  },
  {
   "cell_type": "code",
   "execution_count": null,
   "metadata": {},
   "outputs": [],
   "source": []
  },
  {
   "cell_type": "code",
   "execution_count": null,
   "metadata": {},
   "outputs": [],
   "source": []
  },
  {
   "cell_type": "code",
   "execution_count": null,
   "metadata": {},
   "outputs": [],
   "source": []
  },
  {
   "cell_type": "code",
   "execution_count": null,
   "metadata": {},
   "outputs": [],
   "source": []
  },
  {
   "cell_type": "code",
   "execution_count": null,
   "metadata": {},
   "outputs": [],
   "source": []
  },
  {
   "cell_type": "code",
   "execution_count": null,
   "metadata": {},
   "outputs": [],
   "source": []
  },
  {
   "cell_type": "code",
   "execution_count": null,
   "metadata": {},
   "outputs": [],
   "source": []
  },
  {
   "cell_type": "code",
   "execution_count": null,
   "metadata": {},
   "outputs": [],
   "source": []
  },
  {
   "cell_type": "code",
   "execution_count": null,
   "metadata": {},
   "outputs": [],
   "source": []
  },
  {
   "cell_type": "code",
   "execution_count": null,
   "metadata": {},
   "outputs": [],
   "source": []
  }
 ],
 "metadata": {
  "kernelspec": {
   "display_name": "Python 3",
   "language": "python",
   "name": "python3"
  },
  "language_info": {
   "codemirror_mode": {
    "name": "ipython",
    "version": 3
   },
   "file_extension": ".py",
   "mimetype": "text/x-python",
   "name": "python",
   "nbconvert_exporter": "python",
   "pygments_lexer": "ipython3",
   "version": "3.6.8"
  }
 },
 "nbformat": 4,
 "nbformat_minor": 4
}
